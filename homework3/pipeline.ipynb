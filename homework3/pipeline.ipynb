{
 "cells": [
  {
   "cell_type": "code",
   "execution_count": 2,
   "id": "_5oTP_OEHMOd",
   "metadata": {
    "id": "_5oTP_OEHMOd"
   },
   "outputs": [],
   "source": [
    "# from google.colab import drive\n",
    "# drive.mount('/content/drive')"
   ]
  },
  {
   "cell_type": "code",
   "execution_count": 3,
   "id": "153f5981",
   "metadata": {
    "id": "153f5981"
   },
   "outputs": [],
   "source": [
    "import os\n",
    "from glob import glob\n",
    "import numpy as np\n",
    "import random\n",
    "import importlib"
   ]
  },
  {
   "cell_type": "code",
   "execution_count": 4,
   "id": "2b317c36",
   "metadata": {
    "id": "2b317c36"
   },
   "outputs": [
    {
     "name": "stderr",
     "output_type": "stream",
     "text": [
      "/workspaces/cse153hw3/homework3/homework3.py:186: SyntaxWarning: invalid escape sequence '\\q'\n",
      "  \"\"\"4. Write a function to calculate the perplexity of your model on a midi file.\n",
      "/workspaces/cse153hw3/homework3/homework3.py:207: SyntaxWarning: invalid escape sequence '\\q'\n",
      "  \"\"\"5. Implement a second-order Markov chain, i.e., one which estimates p(next_note | next_previous_note, previous_note); write a function to compute the perplexity of this new model on a midi file.\n",
      "/usr/local/python/3.12.1/lib/python3.12/site-packages/tqdm/auto.py:21: TqdmWarning: IProgress not found. Please update jupyter and ipywidgets. See https://ipywidgets.readthedocs.io/en/stable/user_install.html\n",
      "  from .autonotebook import tqdm as notebook_tqdm\n"
     ]
    },
    {
     "name": "stdout",
     "output_type": "stream",
     "text": [
      "\n",
      "\n",
      "\n",
      "\n",
      "\n",
      "\n"
     ]
    },
    {
     "data": {
      "text/plain": [
       "<module 'homework3' from '/workspaces/cse153hw3/homework3/homework3.py'>"
      ]
     },
     "execution_count": 4,
     "metadata": {},
     "output_type": "execute_result"
    }
   ],
   "source": [
    "import homework3\n",
    "importlib.reload(homework3)"
   ]
  },
  {
   "cell_type": "code",
   "execution_count": 5,
   "id": "76af10b5",
   "metadata": {
    "id": "76af10b5"
   },
   "outputs": [],
   "source": [
    "random.seed(0)"
   ]
  },
  {
   "cell_type": "code",
   "execution_count": 6,
   "id": "af102dee",
   "metadata": {
    "id": "af102dee"
   },
   "outputs": [
    {
     "name": "stdout",
     "output_type": "stream",
     "text": [
      "PDMX_subset/PDMX_subset/QmQeRWqaFZaA4SphJzjDjFm23WJDxdKRySm8mdCMBE7VBk.mid\n"
     ]
    }
   ],
   "source": [
    "midi_files = glob('PDMX_subset/PDMX_subset/*.mid')\n",
    "# Note: the autograder will only use a subset of the files.\n",
    "# You might also work with a small subset to make experimentation faster\n",
    "print(midi_files[0])"
   ]
  },
  {
   "cell_type": "code",
   "execution_count": 7,
   "id": "77b45732",
   "metadata": {
    "id": "77b45732"
   },
   "outputs": [
    {
     "name": "stdout",
     "output_type": "stream",
     "text": [
      "[74, 76, 74, 72, 69, 67, 69, 69, 74, 74, 72, 69, 67, 64, 67, 74, 76, 74, 72, 74, 76, 77, 76, 74, 72, 76, 74, 81, 79, 76, 77, 74, 77, 76, 74, 72, 69, 72, 69, 67, 72, 69, 67, 65, 64, 62, 64, 65, 69, 67, 64, 72, 64, 64, 62, 72, 67, 64, 62, 62, 74, 76, 74, 72, 69, 67, 69, 69, 74, 74, 72, 69, 67, 64, 67, 74, 76, 74, 72, 74, 76, 77, 76, 74, 72, 76, 74, 81, 79, 76, 77, 74, 77, 76, 74, 72, 69, 72, 69, 67, 72, 69, 67, 65, 64, 62, 64, 65, 69, 67, 64, 72, 64, 64, 62, 72, 67, 64, 62, 62]\n"
     ]
    }
   ],
   "source": [
    "def testQ1a():\n",
    "    yours = homework3.note_extraction(midi_files[0])\n",
    "    print(yours)\n",
    "testQ1a()"
   ]
  },
  {
   "cell_type": "code",
   "execution_count": 8,
   "id": "3974f754",
   "metadata": {
    "id": "3974f754"
   },
   "outputs": [
    {
     "name": "stdout",
     "output_type": "stream",
     "text": [
      "{74: 19834, 76: 15518, 72: 9395, 69: 19315, 67: 12003, 64: 5976, 77: 2628, 81: 6442, 79: 9400, 65: 2223, 62: 5010, 78: 9714, 71: 17249, 80: 922, 66: 6087, 83: 1309, 73: 6921, 70: 2128, 59: 435, 55: 178, 68: 771, 61: 326, 63: 327, 75: 696, 82: 291, 60: 729, 57: 457, 58: 103, 84: 146, 48: 16, 43: 14, 53: 29, 36: 6, 45: 2, 50: 15, 38: 2, 47: 2, 86: 42, 85: 65, 52: 75, 88: 13, 35: 16, 37: 16, 54: 1, 56: 13, 92: 1}\n"
     ]
    }
   ],
   "source": [
    "def testQ1b():\n",
    "    yours = homework3.note_frequency(midi_files)\n",
    "    print(yours)\n",
    "testQ1b()"
   ]
  },
  {
   "cell_type": "code",
   "execution_count": 9,
   "id": "68af9e67",
   "metadata": {
    "id": "68af9e67"
   },
   "outputs": [
    {
     "name": "stdout",
     "output_type": "stream",
     "text": [
      "{74: 0.12644315668011807, 76: 0.09892835057790018, 72: 0.05989379131842842, 69: 0.12313449487125544, 67: 0.07651997628473617, 64: 0.03809742383384015, 77: 0.01675368638476103, 81: 0.04106820688380158, 79: 0.059925666673041736, 65: 0.014171782661082105, 62: 0.031939105322546714, 78: 0.06192743894275824, 71: 0.10996359834503158, 80: 0.005877815390696222, 66: 0.03880505670625586, 83: 0.008344967837767196, 73: 0.04412186585575765, 70: 0.013566150923429023, 59: 0.0027731558513588465, 55: 0.0011347626242341946, 68: 0.004915179681373955, 61: 0.002078273120788469, 63: 0.002084648191711133, 75: 0.004437049362174155, 82: 0.0018551456384952284, 60: 0.004647426702622067, 57: 0.002913407411657455, 58: 0.0006566323050343936, 84: 0.0009307603547089461, 48: 0.00010200113476262424, 43: 8.925099291729621e-05, 53: 0.00018487705675725643, 36: 3.825042553598409e-05, 45: 1.275014184532803e-05, 50: 9.562606383996022e-05, 38: 1.275014184532803e-05, 47: 1.275014184532803e-05, 86: 0.0002677529787518886, 85: 0.00041437960997316094, 52: 0.0004781303191998011, 88: 8.28759219946322e-05, 35: 0.00010200113476262424, 37: 0.00010200113476262424, 54: 6.375070922664015e-06, 56: 8.28759219946322e-05, 92: 6.375070922664015e-06}\n"
     ]
    }
   ],
   "source": [
    "def testQ2():\n",
    "    yours = homework3.note_unigram_probability(midi_files)\n",
    "    print(yours)\n",
    "testQ2()"
   ]
  },
  {
   "cell_type": "code",
   "execution_count": null,
   "id": "b2b101b8",
   "metadata": {
    "id": "b2b101b8"
   },
   "outputs": [],
   "source": [
    "def testQ3a():\n",
    "    your_transition, your_probability = homework3.note_bigram_probability(midi_files)\n",
    "    print(your_transition[74]) # Example\n",
    "    print(your_probability[74])\n",
    "testQ3a()"
   ]
  },
  {
   "cell_type": "code",
   "execution_count": null,
   "id": "6d2180b5",
   "metadata": {
    "id": "6d2180b5"
   },
   "outputs": [
    {
     "ename": "NameError",
     "evalue": "name 'homework3' is not defined",
     "output_type": "error",
     "traceback": [
      "\u001b[31m---------------------------------------------------------------------------\u001b[39m",
      "\u001b[31mNameError\u001b[39m                                 Traceback (most recent call last)",
      "\u001b[36mCell\u001b[39m\u001b[36m \u001b[39m\u001b[32mIn[1]\u001b[39m\u001b[32m, line 9\u001b[39m\n\u001b[32m      6\u001b[39m         yours.append(homework3.sample_next_note(note))\n\u001b[32m      8\u001b[39m     \u001b[38;5;28mprint\u001b[39m(yours)\n\u001b[32m----> \u001b[39m\u001b[32m9\u001b[39m \u001b[43mtestQ3b\u001b[49m\u001b[43m(\u001b[49m\u001b[43m)\u001b[49m\n",
      "\u001b[36mCell\u001b[39m\u001b[36m \u001b[39m\u001b[32mIn[1]\u001b[39m\u001b[32m, line 6\u001b[39m, in \u001b[36mtestQ3b\u001b[39m\u001b[34m()\u001b[39m\n\u001b[32m      4\u001b[39m correct = []\n\u001b[32m      5\u001b[39m \u001b[38;5;28;01mfor\u001b[39;00m note \u001b[38;5;129;01min\u001b[39;00m test_notes:\n\u001b[32m----> \u001b[39m\u001b[32m6\u001b[39m     yours.append(\u001b[43mhomework3\u001b[49m.sample_next_note(note))\n\u001b[32m      8\u001b[39m \u001b[38;5;28mprint\u001b[39m(yours)\n",
      "\u001b[31mNameError\u001b[39m: name 'homework3' is not defined"
     ]
    }
   ],
   "source": [
    "def testQ3b():\n",
    "    test_notes = [92, 35, 54] # some notes that have only one possible next note\n",
    "    yours = []\n",
    "    correct = []\n",
    "    for note in test_notes:\n",
    "        yours.append(homework3.sample_next_note(note))\n",
    "\n",
    "    print(yours)\n",
    "testQ3b()"
   ]
  },
  {
   "cell_type": "code",
   "execution_count": null,
   "id": "93f201e8",
   "metadata": {
    "id": "93f201e8"
   },
   "outputs": [],
   "source": [
    "def testQ4():\n",
    "    test_file = midi_files[0]\n",
    "    yours = [homework3.note_bigram_perplexity(test_file)]\n",
    "    print(yours)"
   ]
  },
  {
   "cell_type": "code",
   "execution_count": null,
   "id": "c07dc0e3",
   "metadata": {
    "id": "c07dc0e3"
   },
   "outputs": [],
   "source": [
    "def testQ5a():\n",
    "    test_notes = [71,72,73]\n",
    "    your_transition, your_probability = homework3.note_trigram_probability(midi_files)\n",
    "    print(your_transition)\n",
    "    print(your_probability)"
   ]
  },
  {
   "cell_type": "code",
   "execution_count": null,
   "id": "1b3ac031",
   "metadata": {
    "id": "1b3ac031"
   },
   "outputs": [],
   "source": [
    "def testQ5b():\n",
    "    test_file = midi_files[0]\n",
    "    yours = [homework3.note_trigram_perplexity(test_file)]\n",
    "    print(yours)"
   ]
  },
  {
   "cell_type": "code",
   "execution_count": null,
   "id": "19f20bc4",
   "metadata": {
    "id": "19f20bc4"
   },
   "outputs": [],
   "source": [
    "def testQ6():\n",
    "    test_files = midi_files[:5]\n",
    "    yours = []\n",
    "    for file in test_files:\n",
    "        beats = homework3.beat_extraction(file)\n",
    "        yours += [beat[0] for beat in beats]\n",
    "        yours += [beat[1] for beat in beats]\n",
    "\n",
    "    print(yours)"
   ]
  },
  {
   "cell_type": "code",
   "execution_count": null,
   "id": "5f61fd5f",
   "metadata": {
    "id": "5f61fd5f"
   },
   "outputs": [],
   "source": [
    "def testQ7():\n",
    "    test_beats = [2,4,8]\n",
    "    your_transition, your_probability = homework3.beat_bigram_probability(midi_files)\n",
    "    yours = []\n",
    "    correct = []\n",
    "    for note in test_beats:\n",
    "        index = your_transition[4].index(note)\n",
    "        yours.append(your_probability[4][index])\n",
    "\n",
    "    print(yours)"
   ]
  },
  {
   "cell_type": "code",
   "execution_count": null,
   "id": "c6191005",
   "metadata": {
    "id": "c6191005"
   },
   "outputs": [],
   "source": [
    "def testQ8a():\n",
    "    test_beats = [2,4,8]\n",
    "    your_transition, your_probability = homework3.beat_pos_bigram_probability(midi_files)\n",
    "    yours = []\n",
    "    for note in test_beats:\n",
    "        index = your_transition[0].index(note)\n",
    "        yours.append(your_probability[0][index])\n",
    "\n",
    "    print(yours)"
   ]
  },
  {
   "cell_type": "code",
   "execution_count": null,
   "id": "541e61d3",
   "metadata": {
    "id": "541e61d3"
   },
   "outputs": [],
   "source": [
    "def testQ8b():\n",
    "    test_file = midi_files[0]\n",
    "    yours = list(homework3.beat_bigram_perplexity(test_file))\n",
    "    print(yours)"
   ]
  },
  {
   "cell_type": "code",
   "execution_count": null,
   "id": "19641f59",
   "metadata": {
    "id": "19641f59"
   },
   "outputs": [],
   "source": [
    "def testQ9a():\n",
    "    test_beats = [2,4,8]\n",
    "    your_transition, your_probability = homework3.beat_trigram_probability(midi_files)\n",
    "    yours = []\n",
    "    for note in test_beats:\n",
    "        index = your_transition[(4, 0)].index(note)\n",
    "        yours.append(your_probability[(4, 0)][index])\n",
    "\n",
    "    print(yours)"
   ]
  },
  {
   "cell_type": "code",
   "execution_count": null,
   "id": "3dc6bae4",
   "metadata": {
    "id": "3dc6bae4"
   },
   "outputs": [],
   "source": [
    "def testQ9b():\n",
    "    test_file = midi_files[0]\n",
    "    yours = [homework3.beat_trigram_perplexity(test_file)]\n",
    "\n",
    "    print(yours)"
   ]
  },
  {
   "cell_type": "code",
   "execution_count": null,
   "id": "d338b9e8",
   "metadata": {
    "id": "d338b9e8"
   },
   "outputs": [],
   "source": [
    "def testQ10():\n",
    "    homework3.music_generate(n)\n",
    "    if not os.path.exists('q10.mid'):\n",
    "        print('No q10.mid file found')\n",
    "        return 0\n",
    "\n",
    "    # requirement1: generation of n notes\n",
    "    notes = homework3.note_extraction('q10.mid')\n",
    "    if len(notes) == n:\n",
    "        point += 0.25\n",
    "    else:\n",
    "        print('It looks like your solution has the wrong sequence length')\n",
    "\n",
    "    # Various other tests about the statistics of your midi file..."
   ]
  },
  {
   "cell_type": "code",
   "execution_count": null,
   "id": "b13eb1a6",
   "metadata": {
    "id": "b13eb1a6"
   },
   "outputs": [],
   "source": []
  }
 ],
 "metadata": {
  "colab": {
   "provenance": []
  },
  "kernelspec": {
   "display_name": "Python 3",
   "language": "python",
   "name": "python3"
  },
  "language_info": {
   "codemirror_mode": {
    "name": "ipython",
    "version": 3
   },
   "file_extension": ".py",
   "mimetype": "text/x-python",
   "name": "python",
   "nbconvert_exporter": "python",
   "pygments_lexer": "ipython3",
   "version": "3.12.1"
  }
 },
 "nbformat": 4,
 "nbformat_minor": 5
}
